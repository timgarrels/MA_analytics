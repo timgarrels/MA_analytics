{
 "cells": [
  {
   "cell_type": "code",
   "execution_count": 1,
   "id": "2b98ce33",
   "metadata": {},
   "outputs": [],
   "source": [
    "import networkx as nx\n",
    "import os\n",
    "from pathlib import Path\n",
    "\n",
    "ppi_networks_dir = Path(\"/home/timgarrels/Projects/masterthesis/datasets\") / \"some_PPI_networks\"\n"
   ]
  },
  {
   "cell_type": "code",
   "execution_count": 2,
   "id": "2d039d82",
   "metadata": {},
   "outputs": [],
   "source": [
    "def parse_ppi_tsv(tsv):\n",
    "    return nx.read_edgelist(\n",
    "        tsv,\n",
    "        delimiter=\"\\t\",\n",
    "        data=[\n",
    "            (\"node1_string_id\", str),\n",
    "            (\"node2_string_id\", str),\n",
    "            (\"neighborhood_on_chromosome\", float),\n",
    "            (\"gene_fusion\", float),\n",
    "            (\"phylogenetic_cooccurrence\", float),\n",
    "            (\"homology\", float),\n",
    "            (\"coexpression\", float),\n",
    "            (\"experimentally_determined_interaction\", float),\n",
    "            (\"database_annotated\", float),\n",
    "            (\"automated_textmining\", float),\n",
    "            (\"combined_score\", float),\n",
    "        ],\n",
    "    )"
   ]
  },
  {
   "cell_type": "code",
   "execution_count": 3,
   "id": "20c01bd3",
   "metadata": {},
   "outputs": [],
   "source": [
    "networks = {\n",
    "    n: parse_ppi_tsv(ppi_networks_dir / n)\n",
    "    for n in os.listdir(ppi_networks_dir)\n",
    "    if \"cancer\" in n or \"brain\" in n\n",
    "}"
   ]
  },
  {
   "cell_type": "code",
   "execution_count": 4,
   "id": "f2837d73",
   "metadata": {},
   "outputs": [
    {
     "data": {
      "text/plain": [
       "{'human_cancer_string_interactions_short.tsv': <networkx.classes.graph.Graph at 0x7f4e9cfc1ab0>,\n",
       " 'human_brain_development_string_interactions_short.tsv': <networkx.classes.graph.Graph at 0x7f4e9cf73580>}"
      ]
     },
     "execution_count": 4,
     "metadata": {},
     "output_type": "execute_result"
    }
   ],
   "source": [
    "networks"
   ]
  },
  {
   "cell_type": "code",
   "execution_count": 5,
   "id": "4a648933",
   "metadata": {},
   "outputs": [],
   "source": [
    "def get_node_mapping(g, shift:int = 1):\n",
    "    return {n: i + 1 for i, n in enumerate(g.nodes)}\n"
   ]
  },
  {
   "cell_type": "code",
   "execution_count": 6,
   "id": "9e852b51",
   "metadata": {},
   "outputs": [
    {
     "data": {
      "text/plain": [
       "('EML4', 'ESR1', 'MECOM')"
      ]
     },
     "execution_count": 6,
     "metadata": {},
     "output_type": "execute_result"
    }
   ],
   "source": [
    "mapping = get_node_mapping(networks['human_cancer_string_interactions_short.tsv'])\n",
    "assert len(list(mapping.values())) == len(set(mapping.values())), \"Mapping not unique!\"\n",
    "\n",
    "reverse_lookup = {v: k for k, v in mapping.items()}\n",
    "\n",
    "reverse_lookup[77], reverse_lookup[130], reverse_lookup[39]"
   ]
  },
  {
   "cell_type": "code",
   "execution_count": 7,
   "id": "2602c896",
   "metadata": {},
   "outputs": [
    {
     "data": {
      "text/plain": [
       "['FGF13', 'SLIT2', 'BCR', 'CDH2', 'RRM1', 'SIRT2', 'GLI1', 'OXCT1']"
      ]
     },
     "execution_count": 7,
     "metadata": {},
     "output_type": "execute_result"
    }
   ],
   "source": [
    "mapping = get_node_mapping(networks['human_brain_development_string_interactions_short.tsv'])\n",
    "assert len(list(mapping.values())) == len(set(mapping.values())), \"Mapping not unique!\"\n",
    "\n",
    "reverse_lookup = {v: k for k, v in mapping.items()}\n",
    "\n",
    "[reverse_lookup[int(n)] for n in {'104', '110', '145', '157', '31', '39', '77', '94'}]"
   ]
  },
  {
   "cell_type": "code",
   "execution_count": 8,
   "id": "060bfb52",
   "metadata": {},
   "outputs": [],
   "source": [
    "brain_mapping = get_node_mapping(networks['human_brain_development_string_interactions_short.tsv'])\n",
    "brain_reverse_lookup = {v: k for k, v in brain_mapping.items()}\n",
    "cancer_mapping = get_node_mapping(networks['human_cancer_string_interactions_short.tsv'])\n",
    "cancer_reverse_lookup = {v: k for k, v in cancer_mapping.items()}"
   ]
  },
  {
   "cell_type": "code",
   "execution_count": 9,
   "id": "0732f18f",
   "metadata": {},
   "outputs": [],
   "source": [
    "datasets = Path(\"/home/timgarrels/Projects/masterthesis/datasets\")\n",
    "\n",
    "cancer_graph = nx.read_edgelist(datasets / \"human_cancer_cutoff_0.935.edgelist\")\n",
    "brain_graph = nx.read_edgelist(datasets / \"human_brain_development_cutoff_0.772.edgelist\")"
   ]
  },
  {
   "cell_type": "code",
   "execution_count": 10,
   "id": "e65471f8",
   "metadata": {},
   "outputs": [],
   "source": [
    "real_cancer_nodes = [cancer_reverse_lookup[int(n)] for n in cancer_graph.nodes]\n",
    "real_brain_nodes = [brain_reverse_lookup[int(n)] for n in brain_graph.nodes]"
   ]
  },
  {
   "cell_type": "code",
   "execution_count": 11,
   "id": "e83681aa",
   "metadata": {},
   "outputs": [
    {
     "data": {
      "text/plain": [
       "68"
      ]
     },
     "execution_count": 11,
     "metadata": {},
     "output_type": "execute_result"
    }
   ],
   "source": [
    "len(set(real_cancer_nodes).intersection(real_brain_nodes))"
   ]
  },
  {
   "cell_type": "code",
   "execution_count": 12,
   "id": "1a69d51d",
   "metadata": {},
   "outputs": [
    {
     "data": {
      "text/plain": [
       "417"
      ]
     },
     "execution_count": 12,
     "metadata": {},
     "output_type": "execute_result"
    }
   ],
   "source": [
    "len(set(real_cancer_nodes) - set(real_brain_nodes))"
   ]
  },
  {
   "cell_type": "code",
   "execution_count": 13,
   "id": "4b59c825",
   "metadata": {},
   "outputs": [
    {
     "data": {
      "text/plain": [
       "471"
      ]
     },
     "execution_count": 13,
     "metadata": {},
     "output_type": "execute_result"
    }
   ],
   "source": [
    "len(set(real_brain_nodes) - set(real_cancer_nodes))"
   ]
  }
 ],
 "metadata": {
  "kernelspec": {
   "display_name": "masterthesis",
   "language": "python",
   "name": "masterthesis"
  },
  "language_info": {
   "codemirror_mode": {
    "name": "ipython",
    "version": 3
   },
   "file_extension": ".py",
   "mimetype": "text/x-python",
   "name": "python",
   "nbconvert_exporter": "python",
   "pygments_lexer": "ipython3",
   "version": "3.10.6"
  }
 },
 "nbformat": 4,
 "nbformat_minor": 5
}
