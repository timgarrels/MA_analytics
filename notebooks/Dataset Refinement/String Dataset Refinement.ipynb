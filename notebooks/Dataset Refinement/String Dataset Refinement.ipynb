{
 "cells": [
  {
   "cell_type": "code",
   "execution_count": 1,
   "id": "79f702cc",
   "metadata": {},
   "outputs": [],
   "source": [
    "import networkx as nx"
   ]
  },
  {
   "cell_type": "code",
   "execution_count": 2,
   "id": "439af4de",
   "metadata": {},
   "outputs": [],
   "source": [
    "import os\n",
    "from pathlib import Path\n",
    "\n",
    "ppi_networks_dir = Path(\"/home/timgarrels/Projects/masterthesis/datasets\") / \"some_PPI_networks\""
   ]
  },
  {
   "cell_type": "code",
   "execution_count": 3,
   "id": "4adf668f",
   "metadata": {},
   "outputs": [],
   "source": [
    "def parse_ppi_tsv(tsv):\n",
    "    return nx.read_edgelist(\n",
    "        tsv,\n",
    "        delimiter=\"\\t\",\n",
    "        data=[\n",
    "            (\"node1_string_id\", str),\n",
    "            (\"node2_string_id\", str),\n",
    "            (\"neighborhood_on_chromosome\", float),\n",
    "            (\"gene_fusion\", float),\n",
    "            (\"phylogenetic_cooccurrence\", float),\n",
    "            (\"homology\", float),\n",
    "            (\"coexpression\", float),\n",
    "            (\"experimentally_determined_interaction\", float),\n",
    "            (\"database_annotated\", float),\n",
    "            (\"automated_textmining\", float),\n",
    "            (\"combined_score\", float),\n",
    "        ],\n",
    "    )"
   ]
  },
  {
   "cell_type": "code",
   "execution_count": 4,
   "id": "caec1675",
   "metadata": {},
   "outputs": [],
   "source": [
    "networks = {\n",
    "    n: parse_ppi_tsv(ppi_networks_dir / n)\n",
    "    for n in os.listdir(ppi_networks_dir)\n",
    "    if \"cancer\" in n or \"brain\" in n\n",
    "}"
   ]
  },
  {
   "cell_type": "code",
   "execution_count": 5,
   "id": "cf946cda",
   "metadata": {},
   "outputs": [],
   "source": [
    "MAX_EDGES = 2000"
   ]
  },
  {
   "cell_type": "markdown",
   "id": "046a7c3c",
   "metadata": {},
   "source": [
    "# Preproc Logic"
   ]
  },
  {
   "cell_type": "code",
   "execution_count": 6,
   "id": "ab4e5855",
   "metadata": {},
   "outputs": [],
   "source": [
    "def rewrite_name(n):\n",
    "    return n.replace(\"_string_interactions_short.tsv\", \"\")"
   ]
  },
  {
   "cell_type": "code",
   "execution_count": 7,
   "id": "1a0a07f8",
   "metadata": {},
   "outputs": [],
   "source": [
    "def get_largest_component(g):\n",
    "    max_c = None\n",
    "    for c in nx.connected_components(g):\n",
    "        if max_c is None:\n",
    "            max_c = c\n",
    "        \n",
    "        if len(c) > len(max_c):\n",
    "            max_c = c\n",
    "    return max_c"
   ]
  },
  {
   "cell_type": "code",
   "execution_count": 8,
   "id": "72ef0880",
   "metadata": {},
   "outputs": [],
   "source": [
    "def remove_edges(g, edges, err_on_not_exist=False):\n",
    "    for u, v in edges:\n",
    "        if g.has_edge(u, v) or err_on_not_exist:\n",
    "            g.remove_edge(u, v)"
   ]
  },
  {
   "cell_type": "code",
   "execution_count": 9,
   "id": "08fabf1d",
   "metadata": {},
   "outputs": [],
   "source": [
    "def fit_graph_return_component(original_g, max_edges, score_field=\"combined_score\"):\n",
    "    \"\"\"Increases cutoff until the largest component has max_edges or less edges\"\"\"\n",
    "    if max_edges < 0:\n",
    "        raise ValueError(\"Can not reduce graph to less than 0 edges!\")\n",
    "    \n",
    "    g = original_g.copy()\n",
    "    del original_g\n",
    "\n",
    "    scores_to_edges = {}\n",
    "    for edge, value in nx.get_edge_attributes(g, name=score_field).items():\n",
    "        scores_to_edges[value] = scores_to_edges.get(value, []) + [edge]\n",
    "\n",
    "    total_edge_count = len(g.edges)\n",
    "    unique_scores_sorted = sorted(scores_to_edges.keys())\n",
    "    \n",
    "    cutoff_value = None\n",
    "    induced_graph = nx.induced_subgraph(g, get_largest_component(g))\n",
    "\n",
    "    if len(induced_graph.edges) <= max_edges:\n",
    "        return induced_graph, cutoff_value\n",
    "\n",
    "    for cutoff_value in unique_scores_sorted:\n",
    "        remove_edges(g, scores_to_edges[cutoff_value])\n",
    "        induced_graph = nx.induced_subgraph(g, get_largest_component(g))\n",
    "        \n",
    "        if len(induced_graph.edges) <= max_edges:\n",
    "            break\n",
    "\n",
    "    return induced_graph, cutoff_value"
   ]
  },
  {
   "cell_type": "code",
   "execution_count": 16,
   "id": "62ad883c",
   "metadata": {},
   "outputs": [
    {
     "name": "stdout",
     "output_type": "stream",
     "text": [
      " human_brain_development_cutoff_0.772.edgelist\r\n",
      " human_cancer_cutoff_0.935.edgelist\r\n",
      " human_cancer_original.edgeslit\r\n",
      "'Load Datasets from Kaggle - stack overflow tags.ipynb'\r\n",
      "'Load Datasets from Kaggle - Star Wars.ipynb'\r\n",
      "'String Dataset Node Mapping.ipynb'\r\n",
      "'String Dataset Refinement.ipynb'\r\n",
      " unshifted_human_brain_development_cutoff_0.772.edgelist\r\n",
      " unshifted_human_cancer_cutoff_0.935.edgelist\r\n"
     ]
    }
   ],
   "source": [
    "ls"
   ]
  },
  {
   "cell_type": "code",
   "execution_count": 14,
   "id": "8dde227e",
   "metadata": {},
   "outputs": [
    {
     "name": "stdout",
     "output_type": "stream",
     "text": [
      "human_cancer\n",
      "19730 --> 1992 (cutoff: 0.935)\n",
      "human_brain_development\n",
      "8824 --> 1996 (cutoff: 0.772)\n"
     ]
    }
   ],
   "source": [
    "from pmotif_lib.gtrieScanner.graph_io import write_shifted_edgelist\n",
    "\n",
    "for n, g in networks.items():\n",
    "    print(rewrite_name(n))\n",
    "    new_g, cutoff = fit_graph_return_component(g, MAX_EDGES)\n",
    "    print(f\"{len(g.edges)} --> {len(new_g.edges)} (cutoff: {cutoff})\")\n",
    "    if not nx.is_connected(new_g) or len(new_g) > MAX_EDGES:\n",
    "        print(\"FAIL\")\n",
    "    \n",
    "    nx.write_edgelist(new_g, Path(\".\") / f\"unshifted_{rewrite_name(n)}_cutoff_{cutoff}.edgelist\")\n",
    "\n",
    "    out = Path(\".\") / f\"{rewrite_name(n)}_cutoff_{cutoff}.edgelist\"\n",
    "    write_shifted_edgelist(new_g, out, reindex=True)"
   ]
  },
  {
   "cell_type": "code",
   "execution_count": null,
   "id": "95a01eb5",
   "metadata": {},
   "outputs": [],
   "source": [
    "\"\"\"Tie breaking logic\"\"\"\n",
    "from typing import Callable, List\n",
    "\n",
    "def filter_graphs(graphs: List[nx.Graph], score_calulator: Callable[nx.Graph, float], pick_min=False):\n",
    "    scores = [score_calulator(g) for g in graphs]\n",
    "    target_score = min(scores) if pick_min else max(scores)\n",
    "    \n",
    "    return [\n",
    "        g\n",
    "        for g in graphs\n",
    "        if score_calulator(g) == target_score\n",
    "    ]\n",
    "    \n",
    "def pick_subgraph(subgraphs):\n",
    "    \"\"\"Choose component by highest edge_count, or if tied, by lowest node count, or if tied again, by index\"\"\"\n",
    "    max_edge_count_graphs = filter_graphs(subgraphs, lambda g: len(g.edges))\n",
    "    if len(max_edge_count_graphs) == 1:\n",
    "        return max_edge_count_graphs[0]\n",
    "    min_node_count_graphs = filter_graphs(subgraphs, lambda g: len(g.nodes), pick_min=True)\n",
    "    \n",
    "    # Return only result or the result with the smallest index\n",
    "    return min_node_count_graphs[0]\n",
    "    "
   ]
  },
  {
   "cell_type": "code",
   "execution_count": null,
   "id": "96ab95ce",
   "metadata": {},
   "outputs": [],
   "source": [
    "from tqdm import tqdm\n",
    "\n",
    "\n",
    "def fit_any_component(original_g, max_edges, score_field=\"combined_score\"):\n",
    "    \"\"\"Increases cutoff until any component has max_edges or lower edges (with tiebreaking)\"\"\"\n",
    "    if max_edges < 0:\n",
    "        raise ValueError(\"Can not reduce graph to less than 0 edges!\")\n",
    "    \n",
    "    g = original_g.copy()\n",
    "    del original_g\n",
    "\n",
    "    scores_to_edges = {}\n",
    "    for edge, value in nx.get_edge_attributes(g, name=score_field).items():\n",
    "        scores_to_edges[value] = scores_to_edges.get(value, []) + [edge]\n",
    "\n",
    "    total_edge_count = len(g.edges)\n",
    "    unique_scores_sorted = sorted(scores_to_edges.keys())\n",
    "    cutoff_value = None\n",
    "    \n",
    "    valid_component_subgaphs = [\n",
    "        nx.induced_subgraph(g, component)\n",
    "        for component in nx.connected_components(g)\n",
    "        if len(nx.induced_subgraph(g, component).edges) <= max_edges\n",
    "    ]\n",
    "    if len(valid_component_subgaphs) > 0:\n",
    "        print(\"Early abort\")\n",
    "        return pick_subgraph(valid_component_subgaphs), cutoff_value\n",
    "    \n",
    "    # Find cutoff value to create at least one valid component (below 2000 edges)\n",
    "    for cutoff_value in unique_scores_sorted:\n",
    "        remove_edges(g, scores_to_edges[cutoff_value])\n",
    "\n",
    "        valid_component_subgaphs = [\n",
    "            nx.induced_subgraph(g, component)\n",
    "            for component in nx.connected_components(g)\n",
    "            if len(nx.induced_subgraph(g, component).edges) <= max_edges\n",
    "        ]\n",
    "        if len(valid_component_subgaphs) > 0:\n",
    "            break\n",
    "        \n",
    "    return pick_subgraph(valid_component_subgaphs), cutoff_value"
   ]
  },
  {
   "cell_type": "code",
   "execution_count": null,
   "id": "77327193",
   "metadata": {},
   "outputs": [],
   "source": [
    "for n, g in networks.items():\n",
    "    print(rewrite_name(n))\n",
    "    new_g, cutoff = fit_any_component(g, MAX_EDGES)\n",
    "    print(f\"{len(g.edges)} --> {len(new_g.edges)} (cutoff: {cutoff})\")"
   ]
  },
  {
   "cell_type": "code",
   "execution_count": null,
   "id": "6a4003f5",
   "metadata": {},
   "outputs": [],
   "source": []
  },
  {
   "cell_type": "code",
   "execution_count": null,
   "id": "9597b321",
   "metadata": {},
   "outputs": [],
   "source": [
    "def filter_with_fixed_value(original_g, min_value, score_field=\"combined_score\"):\n",
    "    \"\"\"Filters edges against a fixed cutoff, returning the largest component\"\"\"\n",
    "    \n",
    "    g = original_g.copy()\n",
    "    del original_g\n",
    "\n",
    "    edges = list(g.edges(data=score_field))\n",
    "    for u, v, score in edges:\n",
    "        if score < min_value:\n",
    "            g.remove_edge(u, v)\n",
    "    return nx.induced_subgraph(g, get_largest_component(g))\n",
    "    "
   ]
  },
  {
   "cell_type": "code",
   "execution_count": null,
   "id": "5a9f32dd",
   "metadata": {
    "scrolled": true
   },
   "outputs": [],
   "source": [
    "for n, g in networks.items():\n",
    "    print(rewrite_name(n))\n",
    "    new_g = filter_with_fixed_value(g, 0.8)\n",
    "    print(f\"{len(g.edges)} --> {len(new_g.edges)}\")"
   ]
  },
  {
   "cell_type": "code",
   "execution_count": null,
   "id": "75e6d85d",
   "metadata": {},
   "outputs": [],
   "source": [
    "import matplotlib.pyplot as plt\n",
    "\n",
    "def visualize_edge_development(original_g, ax, score_field=\"combined_score\"):\n",
    "    # Plot the edge development of the largest component\n",
    "    g = original_g.copy()\n",
    "    del original_g\n",
    "\n",
    "    scores_to_edges = {}\n",
    "    for edge, value in nx.get_edge_attributes(g, name=score_field).items():\n",
    "        scores_to_edges[value] = scores_to_edges.get(value, []) + [edge]\n",
    "\n",
    "    total_edge_count = len(g.edges)\n",
    "    unique_scores_sorted = sorted(scores_to_edges.keys())\n",
    "    \n",
    "    \n",
    "    edges = [len(nx.induced_subgraph(g, get_largest_component(g)).edges)]\n",
    "    for score in unique_scores_sorted:\n",
    "        remove_edges(g, scores_to_edges[score])\n",
    "        edges.append(len(nx.induced_subgraph(g, get_largest_component(g)).edges))\n",
    "        \n",
    "    ax.plot(edges)"
   ]
  },
  {
   "cell_type": "code",
   "execution_count": null,
   "id": "c76ddea5",
   "metadata": {},
   "outputs": [],
   "source": [
    "desired_edges = 2000\n",
    "\n",
    "fig, axes = plt.subplots(1, len(networks), figsize=(50, 10))\n",
    "for i, (n, g) in enumerate(networks.items()):\n",
    "    ax = axes[i]\n",
    "    visualize_edge_development(g, ax)\n",
    "    ax.axhline(desired_edges, color=\"tab:orange\")\n",
    "    ax.set_title(n.replace(\"_string_interactions_short.tsv\", \"\"))"
   ]
  },
  {
   "cell_type": "code",
   "execution_count": null,
   "id": "e0ecd74f",
   "metadata": {},
   "outputs": [],
   "source": []
  }
 ],
 "metadata": {
  "kernelspec": {
   "display_name": "masterthesis",
   "language": "python",
   "name": "masterthesis"
  },
  "language_info": {
   "codemirror_mode": {
    "name": "ipython",
    "version": 3
   },
   "file_extension": ".py",
   "mimetype": "text/x-python",
   "name": "python",
   "nbconvert_exporter": "python",
   "pygments_lexer": "ipython3",
   "version": "3.10.6"
  }
 },
 "nbformat": 4,
 "nbformat_minor": 5
}
