{
 "cells": [
  {
   "cell_type": "code",
   "execution_count": 1,
   "id": "6e71b422",
   "metadata": {},
   "outputs": [],
   "source": [
    "# Loading of Env Vars to enable parameterized command line usage\n",
    "import os\n",
    "\n",
    "GRAPHLET_SIZE = int(os.environ.get('GRAPHLET_SIZE', 3))\n",
    "DATASET = os.environ.get('DATASET', \"yeastInter_st.txt\")\n",
    "EXPERIMENT_OUT = os.environ.get('EXPERIMENT_OUT', \"yeastInter_st\")\n",
    "METRIC_NAME = os.environ.get('METRIC_NAME', \"degree\")"
   ]
  },
  {
   "cell_type": "code",
   "execution_count": 2,
   "id": "23e839e6",
   "metadata": {},
   "outputs": [
    {
     "ename": "ModuleNotFoundError",
     "evalue": "No module named 'pmotifs'",
     "output_type": "error",
     "traceback": [
      "\u001b[0;31m---------------------------------------------------------------------------\u001b[0m",
      "\u001b[0;31mModuleNotFoundError\u001b[0m                       Traceback (most recent call last)",
      "Cell \u001b[0;32mIn[2], line 1\u001b[0m\n\u001b[0;32m----> 1\u001b[0m \u001b[38;5;28;01mfrom\u001b[39;00m \u001b[38;5;21;01mpmotifs\u001b[39;00m\u001b[38;5;21;01m.\u001b[39;00m\u001b[38;5;21;01manalysis_utilities\u001b[39;00m\u001b[38;5;21;01m.\u001b[39;00m\u001b[38;5;21;01mmetric_consolidation\u001b[39;00m \u001b[38;5;28;01mimport\u001b[39;00m metrics\n\u001b[1;32m      3\u001b[0m potential_metrics \u001b[38;5;241m=\u001b[39m metrics\u001b[38;5;241m.\u001b[39mkeys()\n\u001b[1;32m      4\u001b[0m \u001b[38;5;28;01massert\u001b[39;00m METRIC_NAME \u001b[38;5;129;01min\u001b[39;00m potential_metrics\n",
      "\u001b[0;31mModuleNotFoundError\u001b[0m: No module named 'pmotifs'"
     ]
    }
   ],
   "source": [
    "from pmotifs.analysis_utilities.metric_consolidation import metrics\n",
    "\n",
    "potential_metrics = metrics.keys()\n",
    "assert METRIC_NAME in potential_metrics"
   ]
  },
  {
   "cell_type": "code",
   "execution_count": null,
   "id": "f54e2c08",
   "metadata": {},
   "outputs": [],
   "source": [
    "from pmotifs.analysis_utilities.loading import Result\n",
    "from pmotifs.config import config\n",
    "\n",
    "r = Result.load_result(\n",
    "    config.DATASET_DIRECTORY /  DATASET,\n",
    "    config.EXPERIMENT_OUT / EXPERIMENT_OUT,\n",
    "    GRAPHLET_SIZE,\n",
    ")\n",
    "\n",
    "g = r.pmotif_graph\n",
    "df = r.positional_metric_df"
   ]
  },
  {
   "cell_type": "code",
   "execution_count": null,
   "id": "df3a92b3",
   "metadata": {
    "scrolled": false
   },
   "outputs": [],
   "source": [
    "randomized_results = Result.load_randomized_results(g, GRAPHLET_SIZE, supress_tqdm=True)"
   ]
  },
  {
   "cell_type": "code",
   "execution_count": null,
   "id": "c17339ab",
   "metadata": {},
   "outputs": [],
   "source": [
    "from typing import Union\n",
    "\n",
    "from pmotifs.GraphletPositionalMetrics import GraphletPositionalMetrics\n",
    "\n",
    "\n",
    "def get_positional_metric(result: Result) -> Union[int, float]:\n",
    "    \"\"\"A wrapper to consolidate metrics\"\"\"\n",
    "    return metrics[METRIC_NAME](result)"
   ]
  },
  {
   "cell_type": "code",
   "execution_count": null,
   "id": "b714deea",
   "metadata": {},
   "outputs": [],
   "source": [
    "df[METRIC_NAME] = get_positional_metric(r)"
   ]
  },
  {
   "cell_type": "code",
   "execution_count": null,
   "id": "1f8062e1",
   "metadata": {},
   "outputs": [],
   "source": [
    "for r in randomized_results:\n",
    "    r.positional_metric_df[METRIC_NAME] = get_positional_metric(r)\n",
    "\n",
    "randomized_results = {\n",
    "    r.pmotif_graph: r.positional_metric_df\n",
    "    for r in randomized_results\n",
    "}"
   ]
  },
  {
   "cell_type": "markdown",
   "id": "d1aea310",
   "metadata": {},
   "source": [
    "# Analysis"
   ]
  },
  {
   "cell_type": "code",
   "execution_count": null,
   "id": "cbba6275",
   "metadata": {
    "scrolled": true
   },
   "outputs": [],
   "source": [
    "# Extract Distribution of Metric for one dataframe\n",
    "def extract_metric_distribution(df, metric_name):\n",
    "    return dict(df.groupby(\"graphlet_class\").agg(list)[metric_name])\n",
    "\n",
    "extract_metric_distribution(df, METRIC_NAME)"
   ]
  },
  {
   "cell_type": "code",
   "execution_count": null,
   "id": "f386423b",
   "metadata": {},
   "outputs": [],
   "source": [
    "from pmotifs.graphlet_representation import graphlet_class_to_name\n",
    "\n",
    "import matplotlib.pyplot as plt\n",
    "\n",
    "def plot_distirbution_per_class(df, metric_name):\n",
    "    distributions = extract_metric_distribution(df, metric_name)\n",
    "    fig, axes = plt.subplots(1, len(distributions), figsize=(5*len(distributions), 5))\n",
    "    \n",
    "    for i, graphlet_class in enumerate(distributions.keys()):\n",
    "        ax = axes[i]\n",
    "        ax.hist(distributions[graphlet_class])\n",
    "        ax.set_title(graphlet_class_to_name(graphlet_class))\n",
    "    # return fig\n",
    "\n",
    "plot_distirbution_per_class(df, METRIC_NAME)"
   ]
  },
  {
   "cell_type": "code",
   "execution_count": null,
   "id": "1d6a67cf",
   "metadata": {},
   "outputs": [],
   "source": [
    "graphlet_classes = list(df.groupby(\"graphlet_class\").agg(lambda i: None).index)\n",
    "graphlet_classes"
   ]
  },
  {
   "cell_type": "code",
   "execution_count": null,
   "id": "519968eb",
   "metadata": {
    "scrolled": true
   },
   "outputs": [],
   "source": [
    "from scipy.stats import mannwhitneyu\n",
    "from statistics import median\n",
    "from tqdm import tqdm\n",
    "import pandas as pd\n",
    "\n",
    "original_distribution = extract_metric_distribution(df, METRIC_NAME)\n",
    "\n",
    "data = {}\n",
    "for graphlet_class in graphlet_classes:\n",
    "    data[graphlet_class] = []\n",
    "    for r_df in tqdm(randomized_results.values()):\n",
    "        random_distribution = extract_metric_distribution(r_df, METRIC_NAME)\n",
    "\n",
    "        mwu_result = mannwhitneyu(\n",
    "            original_distribution[graphlet_class],\n",
    "            random_distribution[graphlet_class],\n",
    "        )\n",
    "\n",
    "        data[graphlet_class].append({\n",
    "           \"u-statistic\": mwu_result.statistic,\n",
    "           \"p-value\": mwu_result.pvalue,\n",
    "           \"sample-size\": len(random_distribution[graphlet_class]),\n",
    "           \"sample-median\": median(random_distribution[graphlet_class]),\n",
    "           \"original-size\": len(original_distribution[graphlet_class]),\n",
    "           \"original-median\": median(original_distribution[graphlet_class]),\n",
    "       })\n",
    "\n",
    "result_dfs = {\n",
    "    graphlet_class: pd.DataFrame(d)\n",
    "    for graphlet_class, d in data.items()\n",
    "}"
   ]
  },
  {
   "cell_type": "code",
   "execution_count": null,
   "id": "4d3c48b2",
   "metadata": {},
   "outputs": [],
   "source": [
    "def echo_results(df, alpha_global=0.05):\n",
    "    # Bonferroni Correction\n",
    "    alpha_local = alpha_global / df.shape[0]\n",
    "\n",
    "    rejected_rows = df[df[\"p-value\"] < alpha_local]\n",
    "    print(f\"The original is not like the random in {rejected_rows.shape[0]} of {df.shape[0]} cases!\")"
   ]
  },
  {
   "cell_type": "code",
   "execution_count": null,
   "id": "484d4fa9",
   "metadata": {},
   "outputs": [],
   "source": [
    "import matplotlib.pyplot as plt\n",
    "\n",
    "def plot_results(df, graphlet_class):\n",
    "    fig, (size_ax, median_ax) = plt.subplots(1,2, figsize=(10, 5))\n",
    "\n",
    "    df[[\"sample-size\"]].plot.hist(ax=size_ax)\n",
    "    size_ax.axvline(result_df[\"original-size\"][0], label=\"original\", color=\"tab:orange\")\n",
    "    size_ax.set_title(\"sample-size\")\n",
    "    size_ax.legend()\n",
    "    size_ax.set_xlabel(METRIC_NAME)\n",
    "\n",
    "    df[[\"sample-median\"]].plot.hist(ax=median_ax)\n",
    "    median_ax.axvline(result_df[\"original-median\"][0], label=\"original\", color=\"tab:orange\")\n",
    "    median_ax.set_title(\"sample-median\")\n",
    "    median_ax.legend()\n",
    "    median_ax.set_xlabel(METRIC_NAME)\n",
    "    \n",
    "    fig.suptitle(graphlet_class_to_name(graphlet_class))"
   ]
  },
  {
   "cell_type": "code",
   "execution_count": null,
   "id": "a1b6ffc3",
   "metadata": {},
   "outputs": [],
   "source": [
    "for graphlet_class, result_df in result_dfs.items():\n",
    "    print(graphlet_class_to_name(graphlet_class))\n",
    "    echo_results(result_df)\n",
    "    plot_results(result_df,graphlet_class)\n",
    "    print()"
   ]
  }
 ],
 "metadata": {
  "kernelspec": {
   "display_name": "masterthesis",
   "language": "python",
   "name": "masterthesis"
  },
  "language_info": {
   "codemirror_mode": {
    "name": "ipython",
    "version": 3
   },
   "file_extension": ".py",
   "mimetype": "text/x-python",
   "name": "python",
   "nbconvert_exporter": "python",
   "pygments_lexer": "ipython3",
   "version": "3.10.6"
  }
 },
 "nbformat": 4,
 "nbformat_minor": 5
}
